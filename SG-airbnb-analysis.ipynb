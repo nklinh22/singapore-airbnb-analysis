{
 "cells": [
  {
   "cell_type": "code",
   "execution_count": null,
   "metadata": {},
   "outputs": [],
   "source": [
    "import numpy as np\n",
    "import pandas as pd\n",
    "import seaborn.apionly as sns\n",
    "import matplotlib.pyplot as plt\n",
    "import csv, os\n",
    "from datetime import date, datetime as dt\n",
    "\n",
    "# statistics package\n",
    "import statsmodels.api as sm\n",
    "from statsmodels.formula.api import ols\n",
    "from scipy import stats\n",
    "import scipy.stats as sp\n",
    "\n",
    "from sklearn import preprocessing\n",
    "from sklearn.linear_model import LinearRegression\n",
    "# from sklearn.cross_validation import train_test_split\n",
    "from sklearn.model_selection import train_test_split\n",
    "\n",
    "import sys\n",
    "!conda install --yes --prefix {sys.prefix} plotly\n",
    "import plotly.graph_objs as go\n",
    "\n",
    "# !conda install --yes --prefix {sys.prefix} wordcloud\n",
    "!conda install -c conda-forge wordcloud=1.2.1\n",
    "import wordcloud\n",
    "\n",
    "%matplotlib inline"
   ]
  },
  {
   "cell_type": "code",
   "execution_count": null,
   "metadata": {},
   "outputs": [],
   "source": [
    "binpath = 'C:/Users/khanhngu/Downloads/singapore-airbnb' \n",
    "csv_name = os.path.join(binpath, 'listings.csv')\n",
    "df = pd.read_csv(csv_name)"
   ]
  },
  {
   "cell_type": "code",
   "execution_count": null,
   "metadata": {},
   "outputs": [],
   "source": [
    "df.head()"
   ]
  },
  {
   "cell_type": "code",
   "execution_count": null,
   "metadata": {},
   "outputs": [],
   "source": [
    "df.shape"
   ]
  },
  {
   "cell_type": "code",
   "execution_count": null,
   "metadata": {},
   "outputs": [],
   "source": [
    "df.describe()"
   ]
  },
  {
   "cell_type": "code",
   "execution_count": null,
   "metadata": {},
   "outputs": [],
   "source": [
    "df.info()"
   ]
  },
  {
   "cell_type": "code",
   "execution_count": null,
   "metadata": {},
   "outputs": [],
   "source": [
    "df.isna().sum()"
   ]
  },
  {
   "cell_type": "code",
   "execution_count": null,
   "metadata": {},
   "outputs": [],
   "source": [
    "# locate columns with null values\n",
    "sns.set(rc={'figure.figsize':(19.7,8.27)})\n",
    "sns.heatmap(df.isnull(), yticklabels=False, cbar=False, cmap='viridis')\n"
   ]
  },
  {
   "cell_type": "code",
   "execution_count": null,
   "metadata": {},
   "outputs": [],
   "source": [
    "to_drop = ['last_review','reviews_per_month']\n",
    "df.drop(to_drop, inplace=True, axis=1)\n",
    "df.dropna(inplace=True)\n",
    "df.shape"
   ]
  },
  {
   "cell_type": "markdown",
   "metadata": {},
   "source": [
    "# Exploratory Data Analysis"
   ]
  },
  {
   "cell_type": "code",
   "execution_count": null,
   "metadata": {},
   "outputs": [],
   "source": [
    "sns.distplot(df['price'])"
   ]
  },
  {
   "cell_type": "code",
   "execution_count": null,
   "metadata": {},
   "outputs": [],
   "source": [
    "sns.countplot(df[\"neighbourhood_group\"])"
   ]
  },
  {
   "cell_type": "code",
   "execution_count": null,
   "metadata": {},
   "outputs": [],
   "source": [
    "sns.scatterplot(x='price',y='minimum_nights',data=df)"
   ]
  },
  {
   "cell_type": "code",
   "execution_count": null,
   "metadata": {
    "scrolled": true
   },
   "outputs": [],
   "source": [
    "# map location on SG map\n",
    "plt.figure(figsize=(10,6))\n",
    "sns.scatterplot(df.longitude,df.latitude,hue=df.neighbourhood_group)\n",
    "plt.ioff()"
   ]
  },
  {
   "cell_type": "markdown",
   "metadata": {},
   "source": [
    "# Hotel Distribution through a Heatmap"
   ]
  },
  {
   "cell_type": "code",
   "execution_count": null,
   "metadata": {},
   "outputs": [],
   "source": [
    "ng = df[df.price <250]\n",
    "plt.figure(figsize=(10,6))\n",
    "sns.boxplot(y=\"price\",x ='neighbourhood_group' ,data = ng)\n",
    "plt.title(\"neighbourhood_group price distribution < 250\")\n",
    "plt.show()"
   ]
  },
  {
   "cell_type": "markdown",
   "metadata": {},
   "source": [
    "# Room types occupied by neighbourhood_group"
   ]
  },
  {
   "cell_type": "code",
   "execution_count": null,
   "metadata": {},
   "outputs": [],
   "source": [
    "plt.figure(figsize=(10,6))\n",
    "sns.countplot(x = 'room_type',hue = \"neighbourhood_group\",data = df)\n",
    "plt.title(\"Room types occupied by the neighbourhood_group\")\n",
    "plt.show()"
   ]
  },
  {
   "cell_type": "code",
   "execution_count": null,
   "metadata": {},
   "outputs": [],
   "source": [
    "#catplot room type and price\n",
    "plt.figure(figsize=(10,6))\n",
    "sns.catplot(x=\"room_type\", y=\"price\", data=df);\n",
    "plt.ioff()"
   ]
  },
  {
   "cell_type": "raw",
   "metadata": {},
   "source": [
    "# Most of rooms' price fall under $2000"
   ]
  },
  {
   "cell_type": "code",
   "execution_count": null,
   "metadata": {},
   "outputs": [],
   "source": [
    "#word cloud\n",
    "from wordcloud import WordCloud, ImageColorGenerator\n",
    "text = \" \".join(str(each) for each in df.name)\n",
    "# Create and generate a word cloud image:\n",
    "wordcloud = WordCloud(max_words=200, background_color=\"white\").generate(text)\n",
    "plt.figure(figsize=(10,6))\n",
    "plt.figure(figsize=(15,10))\n",
    "# Display the generated image:\n",
    "plt.imshow(wordcloud, interpolation='Bilinear')\n",
    "plt.axis(\"off\")\n",
    "plt.show()"
   ]
  },
  {
   "cell_type": "code",
   "execution_count": null,
   "metadata": {},
   "outputs": [],
   "source": [
    "#initializing empty list where we are going to put our name strings\n",
    "_names_=[]\n",
    "#getting name strings from the column and appending it to the list\n",
    "for name in df.name:\n",
    "    _names_.append(name)\n",
    "#setting a function that will split those name strings into separate words   \n",
    "def split_name(name):\n",
    "    spl=str(name).split()\n",
    "    return spl\n",
    "#initializing empty list where we are going to have words counted\n",
    "_names_for_count_=[]\n",
    "#getting name string from our list and using split function, later appending to list above\n",
    "\n",
    "for x in _names_:\n",
    "    for word in split_name(x):\n",
    "        word=word.lower()\n",
    "        _names_for_count_.append(word)\n",
    "        \n",
    "#we are going to use counter\n",
    "from collections import Counter\n",
    "#let's see top 25 used words by host to name their listing\n",
    "_top_20_w=Counter(_names_for_count_).most_common()\n",
    "_top_20_w=_top_20_w[0:20]\n",
    "\n",
    "#now let's put our findings in dataframe for further visualizations\n",
    "sub_w=pd.DataFrame(_top_20_w)\n",
    "sub_w.rename(columns={0:'Words', 1:'Count'}, inplace=True)\n"
   ]
  },
  {
   "cell_type": "code",
   "execution_count": null,
   "metadata": {},
   "outputs": [],
   "source": [
    "#we are going to use barplot for this visualization\n",
    "plt.figure(figsize=(10,6))\n",
    "viz_5=sns.barplot(x='Words', y='Count', data=sub_w)\n",
    "viz_5.set_title('Counts of the top 20 used words for listing names')\n",
    "viz_5.set_ylabel('Count of words')\n",
    "viz_5.set_xlabel('Words')\n",
    "viz_5.set_xticklabels(viz_5.get_xticklabels(), rotation=80)"
   ]
  },
  {
   "cell_type": "markdown",
   "metadata": {},
   "source": [
    "# Room sortings according to max number of reviews"
   ]
  },
  {
   "cell_type": "code",
   "execution_count": null,
   "metadata": {},
   "outputs": [],
   "source": [
    "df1=df.sort_values(by=['number_of_reviews'],ascending=False).head(1000)\n",
    "df1.head()"
   ]
  },
  {
   "cell_type": "markdown",
   "metadata": {},
   "source": [
    "# Room Availability"
   ]
  },
  {
   "cell_type": "code",
   "execution_count": null,
   "metadata": {},
   "outputs": [],
   "source": [
    "plt.figure(figsize=(10,6))\n",
    "plt.scatter(df.longitude, df.latitude, c=df.availability_365, cmap='spring', edgecolor='black', linewidth=1\\\n",
    "            , alpha=1)\n",
    "\n",
    "cbar = plt.colorbar()\n",
    "cbar.set_label('availability_365')"
   ]
  },
  {
   "cell_type": "code",
   "execution_count": null,
   "metadata": {},
   "outputs": [],
   "source": [
    "plt.figure(figsize=(10,6))\n",
    "sub_6=df[df.price<500]\n",
    "viz_4=sub_6.plot(kind='scatter', x='longitude',y='latitude',label='availability_365',c='price',cmap=plt.get_cmap('jet'),colorbar=True,alpha=0.4,figsize=(10,10))\n",
    "viz_4.legend()\n",
    "plt.ioff()"
   ]
  },
  {
   "cell_type": "markdown",
   "metadata": {},
   "source": [
    "# Prediction Model"
   ]
  },
  {
   "cell_type": "code",
   "execution_count": null,
   "metadata": {},
   "outputs": [],
   "source": [
    "#prepare data\n",
    "df.drop(['name','id','host_name'],axis=1,inplace=True)"
   ]
  },
  {
   "cell_type": "code",
   "execution_count": null,
   "metadata": {},
   "outputs": [],
   "source": [
    "# Converting cateorical features to numberic features\n",
    "\n",
    "\n",
    "'''Encode labels with value between 0 and n_classes-1.'''\n",
    "le = preprocessing.LabelEncoder()                                            # Fit label encoder\n",
    "le.fit(df['neighbourhood_group'])\n",
    "df['neighbourhood_group']=le.transform(df['neighbourhood_group'])    # Transform labels to normalized encoding.\n",
    "\n",
    "le = preprocessing.LabelEncoder()\n",
    "le.fit(df['neighbourhood'])\n",
    "df['neighbourhood']=le.transform(df['neighbourhood'])\n",
    "\n",
    "le = preprocessing.LabelEncoder()\n",
    "le.fit(df['room_type'])\n",
    "df['room_type']=le.transform(df['room_type'])\n",
    "\n",
    "df.sort_values(by='price',ascending=True,inplace=True)\n",
    "\n",
    "df.head()"
   ]
  },
  {
   "cell_type": "code",
   "execution_count": null,
   "metadata": {},
   "outputs": [],
   "source": [
    "#Train Linear Regression model\n",
    "\n",
    "lm = LinearRegression()\n",
    "\n",
    "X = df[['host_id','neighbourhood_group','neighbourhood','latitude','longitude','room_type','minimum_nights','number_of_reviews','calculated_host_listings_count','availability_365']]\n",
    "y = df['price']\n",
    "\n",
    "X_train, X_test, y_train, y_test = train_test_split(X, y, test_size=0.2, random_state=101)\n",
    "\n",
    "lm.fit(X_train,y_train)"
   ]
  },
  {
   "cell_type": "markdown",
   "metadata": {},
   "source": [
    "# getting predictions"
   ]
  },
  {
   "cell_type": "code",
   "execution_count": null,
   "metadata": {},
   "outputs": [],
   "source": [
    "predicts = lm.predict(X_test)\n",
    "error_airbnb = pd.DataFrame({\n",
    "        'Actual Values': np.array(y_test).flatten(),\n",
    "        'Predicted Values': predicts.flatten()})\n",
    "error_airbnb.head()"
   ]
  },
  {
   "cell_type": "code",
   "execution_count": null,
   "metadata": {},
   "outputs": [],
   "source": [
    "title=['Pred vs Actual']\n",
    "fig = go.Figure(data=[\n",
    "    go.Bar(name='Predicted', x=error_airbnb.index, y=error_airbnb['Predicted Values']),\n",
    "    go.Bar(name='Actual', x=error_airbnb.index, y=error_airbnb['Actual Values'])\n",
    "])\n",
    "\n",
    "fig.update_layout(barmode='group')\n",
    "fig.show()"
   ]
  },
  {
   "cell_type": "code",
   "execution_count": null,
   "metadata": {},
   "outputs": [],
   "source": []
  },
  {
   "cell_type": "code",
   "execution_count": null,
   "metadata": {},
   "outputs": [],
   "source": []
  },
  {
   "cell_type": "code",
   "execution_count": null,
   "metadata": {},
   "outputs": [],
   "source": []
  },
  {
   "cell_type": "code",
   "execution_count": null,
   "metadata": {},
   "outputs": [],
   "source": []
  },
  {
   "cell_type": "code",
   "execution_count": null,
   "metadata": {},
   "outputs": [],
   "source": []
  },
  {
   "cell_type": "code",
   "execution_count": null,
   "metadata": {},
   "outputs": [],
   "source": []
  },
  {
   "cell_type": "code",
   "execution_count": null,
   "metadata": {},
   "outputs": [],
   "source": []
  },
  {
   "cell_type": "code",
   "execution_count": null,
   "metadata": {},
   "outputs": [],
   "source": []
  }
 ],
 "metadata": {
  "kernelspec": {
   "display_name": "Python 3",
   "language": "python",
   "name": "python3"
  },
  "language_info": {
   "codemirror_mode": {
    "name": "ipython",
    "version": 3
   },
   "file_extension": ".py",
   "mimetype": "text/x-python",
   "name": "python",
   "nbconvert_exporter": "python",
   "pygments_lexer": "ipython3",
   "version": "3.7.4"
  }
 },
 "nbformat": 4,
 "nbformat_minor": 2
}
